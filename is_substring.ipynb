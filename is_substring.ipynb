{
 "cells": [
  {
   "cell_type": "markdown",
   "metadata": {},
   "source": [
    "##### Find if given string is substring of another"
   ]
  },
  {
   "cell_type": "code",
   "execution_count": 31,
   "metadata": {},
   "outputs": [],
   "source": [
    "def issubstring(user_string,check_string):\n",
    "    chk=check_string\n",
    "    for letter in user_string:\n",
    "         if chk.find(letter) == -1:\n",
    "                return(False)\n",
    "         else:\n",
    "            chk=chk.replace(letter,\"\",1)\n",
    "            #print(chk)\n",
    "    return(True)"
   ]
  },
  {
   "cell_type": "code",
   "execution_count": 32,
   "metadata": {},
   "outputs": [
    {
     "data": {
      "text/plain": [
       "True"
      ]
     },
     "execution_count": 32,
     "metadata": {},
     "output_type": "execute_result"
    }
   ],
   "source": [
    "issubstring(\"waterbottle\",\"erbouvgvgftdewqatlewat\")"
   ]
  },
  {
   "cell_type": "code",
   "execution_count": 37,
   "metadata": {},
   "outputs": [],
   "source": [
    "def findifsubstrig(user_string,check_string):\n",
    "    chk_string=check_string\n",
    "    for letter in user_string:\n",
    "        if letter in check_string:\n",
    "            #print(letter in check_string)\n",
    "            chk_string=chk_string.replace(letter,\"\",1)\n",
    "            #print(chk_string)\n",
    "        else:\n",
    "            return(\"User string is not substring\")\n",
    "    return(\"User string is a substring\")"
   ]
  },
  {
   "cell_type": "code",
   "execution_count": 38,
   "metadata": {},
   "outputs": [
    {
     "name": "stdout",
     "output_type": "stream",
     "text": [
      "True\n",
      "erbouvgvgftdeqatlewat\n",
      "True\n",
      "erbouvgvgftdeqtlewat\n",
      "True\n",
      "erbouvgvgfdeqtlewat\n",
      "True\n",
      "rbouvgvgfdeqtlewat\n",
      "True\n",
      "bouvgvgfdeqtlewat\n",
      "True\n",
      "ouvgvgfdeqtlewat\n",
      "True\n",
      "uvgvgfdeqtlewat\n",
      "True\n",
      "uvgvgfdeqlewat\n",
      "True\n",
      "uvgvgfdeqlewa\n",
      "True\n",
      "uvgvgfdeqewa\n",
      "True\n",
      "uvgvgfdqewa\n"
     ]
    },
    {
     "data": {
      "text/plain": [
       "'User string is a substring'"
      ]
     },
     "execution_count": 38,
     "metadata": {},
     "output_type": "execute_result"
    }
   ],
   "source": [
    "findifsubstrig(\"waterbottle\",\"erbouvgvgftdewqatlewat\")"
   ]
  },
  {
   "cell_type": "code",
   "execution_count": null,
   "metadata": {},
   "outputs": [],
   "source": []
  }
 ],
 "metadata": {
  "kernelspec": {
   "display_name": "Python 3",
   "language": "python",
   "name": "python3"
  },
  "language_info": {
   "codemirror_mode": {
    "name": "ipython",
    "version": 3
   },
   "file_extension": ".py",
   "mimetype": "text/x-python",
   "name": "python",
   "nbconvert_exporter": "python",
   "pygments_lexer": "ipython3",
   "version": "3.6.7"
  }
 },
 "nbformat": 4,
 "nbformat_minor": 4
}
