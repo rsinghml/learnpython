{
 "cells": [
  {
   "cell_type": "markdown",
   "metadata": {},
   "source": [
    "#### Map , reduce filter"
   ]
  },
  {
   "cell_type": "code",
   "execution_count": 16,
   "metadata": {},
   "outputs": [
    {
     "name": "stdout",
     "output_type": "stream",
     "text": [
      "Map-[4, 9, 16, 25]\n",
      "Filter-[2, 4]\n",
      "Reduce-14\n"
     ]
    }
   ],
   "source": [
    "a=[2,3,4,5]\n",
    "print(\"Map-{}\".format(list(map(lambda x: x*x,a))))\n",
    "print(\"Filter-{}\".format(list(filter(lambda x: x%2==0,a))))"
   ]
  },
  {
   "cell_type": "markdown",
   "metadata": {},
   "source": [
    "### Notice that reduce needs functools import"
   ]
  },
  {
   "cell_type": "code",
   "execution_count": 21,
   "metadata": {},
   "outputs": [
    {
     "name": "stdout",
     "output_type": "stream",
     "text": [
      "Reduce-14\n"
     ]
    }
   ],
   "source": [
    "from functools import reduce\n",
    "a=[2,3,4,5]\n",
    "print(\"Reduce-{}\".format((reduce(lambda x,y: x+y,a))))"
   ]
  },
  {
   "cell_type": "code",
   "execution_count": null,
   "metadata": {},
   "outputs": [],
   "source": []
  }
 ],
 "metadata": {
  "kernelspec": {
   "display_name": "Python 3",
   "language": "python",
   "name": "python3"
  },
  "language_info": {
   "codemirror_mode": {
    "name": "ipython",
    "version": 3
   },
   "file_extension": ".py",
   "mimetype": "text/x-python",
   "name": "python",
   "nbconvert_exporter": "python",
   "pygments_lexer": "ipython3",
   "version": "3.6.7"
  }
 },
 "nbformat": 4,
 "nbformat_minor": 4
}
