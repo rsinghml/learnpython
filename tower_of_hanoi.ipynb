{
 "cells": [
  {
   "cell_type": "code",
   "execution_count": 3,
   "metadata": {},
   "outputs": [],
   "source": [
    "def TowerOfHanoi(n , from_rod, to_rod, aux_rod): \n",
    "    print(\"here 1\")\n",
    "    print(n)\n",
    "    if n == 1: \n",
    "        print (\"first move --> Move disk 1 from rod {}\".format(from_rod)+\" to rod {}\".format(to_rod)) \n",
    "        return\n",
    "    print(TowerOfHanoi(n-1, from_rod, aux_rod, to_rod))\n",
    "    TowerOfHanoi(n-1, from_rod, aux_rod, to_rod)\n",
    "    print(\"here 2\")\n",
    "    print(n)\n",
    "    print (\"second move --> Move disk {}\".format(n),\"from rod {}\".format(from_rod),\"to rod {}\".format(to_rod))\n",
    "    print(TowerOfHanoi(n-1, aux_rod, to_rod, from_rod))\n",
    "    TowerOfHanoi(n-1, aux_rod, to_rod, from_rod)"
   ]
  },
  {
   "cell_type": "code",
   "execution_count": 6,
   "metadata": {},
   "outputs": [
    {
     "name": "stdout",
     "output_type": "stream",
     "text": [
      "here 1\n",
      "3\n",
      "here 1\n",
      "2\n",
      "here 1\n",
      "1\n",
      "first move --> Move disk 1 from rod A to rod C\n",
      "here 2\n",
      "2\n",
      "second move --> Move disk 2 from rod A to rod B\n",
      "here 1\n",
      "1\n",
      "first move --> Move disk 1 from rod C to rod B\n",
      "here 2\n",
      "3\n",
      "second move --> Move disk 3 from rod A to rod C\n",
      "here 1\n",
      "2\n",
      "here 1\n",
      "1\n",
      "first move --> Move disk 1 from rod B to rod A\n",
      "here 2\n",
      "2\n",
      "second move --> Move disk 2 from rod B to rod C\n",
      "here 1\n",
      "1\n",
      "first move --> Move disk 1 from rod A to rod C\n"
     ]
    }
   ],
   "source": [
    "n = 3\n",
    "TowerOfHanoi(n,'A','C','B')"
   ]
  },
  {
   "cell_type": "code",
   "execution_count": null,
   "metadata": {},
   "outputs": [],
   "source": []
  }
 ],
 "metadata": {
  "kernelspec": {
   "display_name": "Python 3",
   "language": "python",
   "name": "python3"
  },
  "language_info": {
   "codemirror_mode": {
    "name": "ipython",
    "version": 3
   },
   "file_extension": ".py",
   "mimetype": "text/x-python",
   "name": "python",
   "nbconvert_exporter": "python",
   "pygments_lexer": "ipython3",
   "version": "3.6.7"
  }
 },
 "nbformat": 4,
 "nbformat_minor": 4
}
