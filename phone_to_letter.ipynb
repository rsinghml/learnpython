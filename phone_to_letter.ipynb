{
 "cells": [
  {
   "cell_type": "markdown",
   "metadata": {},
   "source": [
    "#### Letter Combinations of a Phone Number"
   ]
  },
  {
   "cell_type": "code",
   "execution_count": 99,
   "metadata": {},
   "outputs": [],
   "source": [
    "def phonetoletter(phone):\n",
    "    letter_map=getmap()\n",
    "    output=[]\n",
    "    def combi(preletter,phone,output):\n",
    "        pattern=''\n",
    "        for letter in (letter_map[int(phone[1])]):\n",
    "            output.append(preletter+letter)\n",
    "    for letter in (letter_map[int(phone[0])]):\n",
    "        combi(letter,phone,output)\n",
    "    return(output)"
   ]
  },
  {
   "cell_type": "code",
   "execution_count": 101,
   "metadata": {},
   "outputs": [
    {
     "data": {
      "text/plain": [
       "['ad', 'ae', 'af', 'bd', 'be', 'bf', 'cd', 'ce', 'cf']"
      ]
     },
     "execution_count": 101,
     "metadata": {},
     "output_type": "execute_result"
    }
   ],
   "source": [
    "phonetoletter('234')"
   ]
  },
  {
   "cell_type": "code",
   "execution_count": 61,
   "metadata": {},
   "outputs": [],
   "source": [
    "def getmap():\n",
    "    lettermap={1:[1]}\n",
    "    myList = [chr(chNum) for chNum in list(range(ord('a'),ord('z')+1))]\n",
    "    listidx=0\n",
    "    for idx in range(8):\n",
    "        if idx < 8:\n",
    "            lettermap[idx+2]=myList[listidx:listidx+3]\n",
    "        else:\n",
    "            lettermap[idx+2]=myList[listidx:listidx+4]\n",
    "        listidx+=3\n",
    "    lettermap[0]=[0]\n",
    "    return(lettermap)"
   ]
  },
  {
   "cell_type": "code",
   "execution_count": 62,
   "metadata": {},
   "outputs": [
    {
     "name": "stdout",
     "output_type": "stream",
     "text": [
      "['2', '3']\n",
      "2\n",
      "['a', 'b', 'c']\n",
      "3\n",
      "['d', 'e', 'f']\n"
     ]
    }
   ],
   "source": [
    "phonetoletter('23')"
   ]
  },
  {
   "cell_type": "code",
   "execution_count": 104,
   "metadata": {},
   "outputs": [],
   "source": [
    "def letterCombinations(digits):\n",
    "    \"\"\"\n",
    "    :type digits: str\n",
    "    :rtype: List[str]\n",
    "    \"\"\"\n",
    "    phone = {'2': ['a', 'b', 'c'],\n",
    "             '3': ['d', 'e', 'f'],\n",
    "             '4': ['g', 'h', 'i'],\n",
    "             '5': ['j', 'k', 'l'],\n",
    "             '6': ['m', 'n', 'o'],\n",
    "             '7': ['p', 'q', 'r', 's'],\n",
    "             '8': ['t', 'u', 'v'],\n",
    "             '9': ['w', 'x', 'y', 'z']}\n",
    "\n",
    "    def backtrack(combination, next_digits):\n",
    "        print(next_digits)\n",
    "        print(\"here2\")\n",
    "        # if there is no more digits to check\n",
    "        if len(next_digits) == 0:\n",
    "            # the combination is done\n",
    "            output.append(combination)\n",
    "        # if there are still digits to check\n",
    "        else:\n",
    "            # iterate over all letters which map \n",
    "            # the next available digit\n",
    "            print(next_digits[0])\n",
    "            for letter in phone[next_digits[0]]:\n",
    "                print('here3')\n",
    "                print(output)\n",
    "                # append the current letter to the combination\n",
    "                # and proceed to the next digits\n",
    "                print(combination + letter)\n",
    "                backtrack(combination + letter, next_digits[1:])\n",
    "\n",
    "    output = []\n",
    "    if digits:\n",
    "        print('here1')\n",
    "        backtrack(\"\", digits)\n",
    "    return output"
   ]
  },
  {
   "cell_type": "code",
   "execution_count": 105,
   "metadata": {},
   "outputs": [
    {
     "name": "stdout",
     "output_type": "stream",
     "text": [
      "here1\n",
      "23\n",
      "here2\n",
      "2\n",
      "here3\n",
      "[]\n",
      "a\n",
      "3\n",
      "here2\n",
      "3\n",
      "here3\n",
      "[]\n",
      "ad\n",
      "\n",
      "here2\n",
      "here3\n",
      "['ad']\n",
      "ae\n",
      "\n",
      "here2\n",
      "here3\n",
      "['ad', 'ae']\n",
      "af\n",
      "\n",
      "here2\n",
      "here3\n",
      "['ad', 'ae', 'af']\n",
      "b\n",
      "3\n",
      "here2\n",
      "3\n",
      "here3\n",
      "['ad', 'ae', 'af']\n",
      "bd\n",
      "\n",
      "here2\n",
      "here3\n",
      "['ad', 'ae', 'af', 'bd']\n",
      "be\n",
      "\n",
      "here2\n",
      "here3\n",
      "['ad', 'ae', 'af', 'bd', 'be']\n",
      "bf\n",
      "\n",
      "here2\n",
      "here3\n",
      "['ad', 'ae', 'af', 'bd', 'be', 'bf']\n",
      "c\n",
      "3\n",
      "here2\n",
      "3\n",
      "here3\n",
      "['ad', 'ae', 'af', 'bd', 'be', 'bf']\n",
      "cd\n",
      "\n",
      "here2\n",
      "here3\n",
      "['ad', 'ae', 'af', 'bd', 'be', 'bf', 'cd']\n",
      "ce\n",
      "\n",
      "here2\n",
      "here3\n",
      "['ad', 'ae', 'af', 'bd', 'be', 'bf', 'cd', 'ce']\n",
      "cf\n",
      "\n",
      "here2\n"
     ]
    },
    {
     "data": {
      "text/plain": [
       "['ad', 'ae', 'af', 'bd', 'be', 'bf', 'cd', 'ce', 'cf']"
      ]
     },
     "execution_count": 105,
     "metadata": {},
     "output_type": "execute_result"
    }
   ],
   "source": [
    "letterCombinations('25')"
   ]
  },
  {
   "cell_type": "code",
   "execution_count": 76,
   "metadata": {},
   "outputs": [],
   "source": [
    "output = []\n",
    "phone = {'2': ['a', 'b', 'c'],\n",
    "             '3': ['d', 'e', 'f'],\n",
    "             '4': ['g', 'h', 'i'],\n",
    "             '5': ['j', 'k', 'l'],\n",
    "             '6': ['m', 'n', 'o'],\n",
    "             '7': ['p', 'q', 'r', 's'],\n",
    "             '8': ['t', 'u', 'v'],\n",
    "             '9': ['w', 'x', 'y', 'z']}\n",
    "def backtrack(combination, next_digits):\n",
    "        # if there is no more digits to check\n",
    "        if len(next_digits) == 0:\n",
    "            # the combination is done\n",
    "            output.append(combination)\n",
    "        # if there are still digits to check\n",
    "        else:\n",
    "            # iterate over all letters which map \n",
    "            # the next available digit\n",
    "            for letter in phone[next_digits[0]]:\n",
    "                # append the current letter to the combination\n",
    "                # and proceed to the next digits\n",
    "                return backtrack(combination + letter, next_digits[1:])\n",
    "             "
   ]
  },
  {
   "cell_type": "code",
   "execution_count": 77,
   "metadata": {},
   "outputs": [],
   "source": [
    "backtrack('','23')"
   ]
  },
  {
   "cell_type": "code",
   "execution_count": 78,
   "metadata": {},
   "outputs": [
    {
     "name": "stdout",
     "output_type": "stream",
     "text": [
      "['ad']\n"
     ]
    }
   ],
   "source": [
    "print(output)"
   ]
  },
  {
   "cell_type": "code",
   "execution_count": null,
   "metadata": {},
   "outputs": [],
   "source": []
  }
 ],
 "metadata": {
  "kernelspec": {
   "display_name": "Python 3",
   "language": "python",
   "name": "python3"
  },
  "language_info": {
   "codemirror_mode": {
    "name": "ipython",
    "version": 3
   },
   "file_extension": ".py",
   "mimetype": "text/x-python",
   "name": "python",
   "nbconvert_exporter": "python",
   "pygments_lexer": "ipython3",
   "version": "3.7.3"
  }
 },
 "nbformat": 4,
 "nbformat_minor": 4
}
