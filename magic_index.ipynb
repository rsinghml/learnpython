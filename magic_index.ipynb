{
 "cells": [
  {
   "cell_type": "code",
   "execution_count": 36,
   "metadata": {},
   "outputs": [],
   "source": [
    "def findmagicindex(a):\n",
    "    a.sort()\n",
    "    if (len(a) == 1 and a[0] != 0):\n",
    "        return(print(\"No magic index\"))\n",
    "    mid_size=int(len(a)/2)\n",
    "    print(a)\n",
    "    print(mid_size)\n",
    "    if (a[mid_size] == mid_size):\n",
    "        return(print(\"magic idex is {}\".format(mid_size)))\n",
    "    elif (a[mid_size] > mid_size):\n",
    "        findmagicindex(a[:mid_size])\n",
    "    else:\n",
    "        findmagicindex(a[mid_size:])"
   ]
  },
  {
   "cell_type": "code",
   "execution_count": 38,
   "metadata": {},
   "outputs": [
    {
     "name": "stdout",
     "output_type": "stream",
     "text": [
      "[0, 1, 2, 4, 7, 8, 9, 9, 9]\n",
      "4\n",
      "[0, 1, 2, 4]\n",
      "2\n",
      "magic idex is 2\n"
     ]
    }
   ],
   "source": [
    "findmagicindex([2,4,7,8,9,9,9,0,1])"
   ]
  },
  {
   "cell_type": "code",
   "execution_count": 15,
   "metadata": {},
   "outputs": [
    {
     "data": {
      "text/plain": [
       "[0, 2, 4]"
      ]
     },
     "execution_count": 15,
     "metadata": {},
     "output_type": "execute_result"
    }
   ],
   "source": [
    "a=[2,4,7,8,9,0]\n",
    "a.sort()\n",
    "a[:3]"
   ]
  },
  {
   "cell_type": "code",
   "execution_count": null,
   "metadata": {},
   "outputs": [],
   "source": []
  }
 ],
 "metadata": {
  "kernelspec": {
   "display_name": "Python 3",
   "language": "python",
   "name": "python3"
  },
  "language_info": {
   "codemirror_mode": {
    "name": "ipython",
    "version": 3
   },
   "file_extension": ".py",
   "mimetype": "text/x-python",
   "name": "python",
   "nbconvert_exporter": "python",
   "pygments_lexer": "ipython3",
   "version": "3.6.7"
  }
 },
 "nbformat": 4,
 "nbformat_minor": 4
}
