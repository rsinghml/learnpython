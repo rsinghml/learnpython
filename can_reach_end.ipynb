{
 "cells": [
  {
   "cell_type": "markdown",
   "metadata": {},
   "source": [
    "##### Traverse array , max you can go is value of the step , check if you can reach end"
   ]
  },
  {
   "cell_type": "code",
   "execution_count": 19,
   "metadata": {},
   "outputs": [],
   "source": [
    "def can_reach_end(A):\n",
    "    furthest_reach_so_far, last_index = 0, len(A) - 1\n",
    "    i = 0\n",
    "    while i <= furthest_reach_so_far and furthest_reach_so_far <= last_index:\n",
    "        print(A[i]+i,i,furthest_reach_so_far)\n",
    "        furthest_reach_so_far = max(furthest_reach_so_far, A[i] + i)\n",
    "        print(furthest_reach_so_far)\n",
    "        i += 1\n",
    "    return furthest_reach_so_far >= last_index"
   ]
  },
  {
   "cell_type": "code",
   "execution_count": 22,
   "metadata": {},
   "outputs": [
    {
     "name": "stdout",
     "output_type": "stream",
     "text": [
      "2 0 0\n",
      "2\n",
      "5 1 2\n",
      "5\n",
      "3 2 5\n",
      "5\n",
      "4 3 5\n",
      "5\n",
      "4 4 5\n",
      "5\n",
      "7 5 5\n",
      "7\n"
     ]
    },
    {
     "data": {
      "text/plain": [
       "True"
      ]
     },
     "execution_count": 22,
     "metadata": {},
     "output_type": "execute_result"
    }
   ],
   "source": [
    "can_reach_end([2,4,1,1,0,2,3])"
   ]
  },
  {
   "cell_type": "code",
   "execution_count": 21,
   "metadata": {},
   "outputs": [
    {
     "name": "stdout",
     "output_type": "stream",
     "text": [
      "3 0 0\n",
      "3\n",
      "3 1 3\n",
      "3\n",
      "2 2 3\n",
      "3\n",
      "3 3 3\n",
      "3\n"
     ]
    },
    {
     "data": {
      "text/plain": [
       "False"
      ]
     },
     "execution_count": 21,
     "metadata": {},
     "output_type": "execute_result"
    }
   ],
   "source": [
    "can_reach_end([3,2,0,0,2,0,1])"
   ]
  },
  {
   "cell_type": "code",
   "execution_count": null,
   "metadata": {},
   "outputs": [],
   "source": []
  }
 ],
 "metadata": {
  "kernelspec": {
   "display_name": "Python 3",
   "language": "python",
   "name": "python3"
  },
  "language_info": {
   "codemirror_mode": {
    "name": "ipython",
    "version": 3
   },
   "file_extension": ".py",
   "mimetype": "text/x-python",
   "name": "python",
   "nbconvert_exporter": "python",
   "pygments_lexer": "ipython3",
   "version": "3.6.7"
  }
 },
 "nbformat": 4,
 "nbformat_minor": 4
}
