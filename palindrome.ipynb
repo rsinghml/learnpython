{
 "cells": [
  {
   "cell_type": "code",
   "execution_count": 29,
   "metadata": {},
   "outputs": [],
   "source": [
    "import collections\n",
    "import string\n",
    "def is_palindrome(word):\n",
    "    word=word.replace(\" \",\"\")\n",
    "    rev_word=[]\n",
    "    orig_word=[]\n",
    "    for letter in word:\n",
    "        orig_word.append(letter)\n",
    "    for letter in reversed(word):\n",
    "        rev_word.append(letter)\n",
    "    print(orig_word)\n",
    "    print(rev_word)\n",
    "    if (rev_word == orig_word ):\n",
    "        print('True')"
   ]
  },
  {
   "cell_type": "code",
   "execution_count": 30,
   "metadata": {},
   "outputs": [
    {
     "name": "stdout",
     "output_type": "stream",
     "text": [
      "['n', 'u', 'r', 's', 'e', 's', 'r', 'u', 'n']\n",
      "['n', 'u', 'r', 's', 'e', 's', 'r', 'u', 'n']\n",
      "True\n"
     ]
    }
   ],
   "source": [
    "is_palindrome('nurses run')"
   ]
  },
  {
   "cell_type": "code",
   "execution_count": 34,
   "metadata": {},
   "outputs": [],
   "source": [
    "def is_palindrome2(word):\n",
    "    word=word.replace(\" \",\"\")\n",
    "    orig=[letter for letter in word]\n",
    "    rev_word=[letter for letter in reversed(word)]\n",
    "    return(True if(orig == rev_word)else False) "
   ]
  },
  {
   "cell_type": "code",
   "execution_count": 36,
   "metadata": {},
   "outputs": [
    {
     "data": {
      "text/plain": [
       "False"
      ]
     },
     "execution_count": 36,
     "metadata": {},
     "output_type": "execute_result"
    }
   ],
   "source": [
    "is_palindrome2('nurse run')"
   ]
  },
  {
   "cell_type": "code",
   "execution_count": null,
   "metadata": {},
   "outputs": [],
   "source": []
  }
 ],
 "metadata": {
  "kernelspec": {
   "display_name": "Python 3",
   "language": "python",
   "name": "python3"
  },
  "language_info": {
   "codemirror_mode": {
    "name": "ipython",
    "version": 3
   },
   "file_extension": ".py",
   "mimetype": "text/x-python",
   "name": "python",
   "nbconvert_exporter": "python",
   "pygments_lexer": "ipython3",
   "version": "3.6.7"
  }
 },
 "nbformat": 4,
 "nbformat_minor": 4
}
