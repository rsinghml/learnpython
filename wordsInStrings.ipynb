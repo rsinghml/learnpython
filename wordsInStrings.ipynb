{
 "cells": [
  {
   "cell_type": "code",
   "execution_count": 28,
   "metadata": {},
   "outputs": [],
   "source": [
    "def findstring(lookup_list,givenlist):\n",
    "    #smallest=min(list(map(lambda x: len(x),lookup_list)))\n",
    "    splitlist=[]\n",
    "    searchword=''\n",
    "    finalword=''\n",
    "    for char in givenlist:\n",
    "        searchword=searchword+char\n",
    "        print(searchword)\n",
    "        if searchword in lookup_list:\n",
    "            splitlist.append(searchword) \n",
    "            searchword=''\n",
    "    for word in splitlist:\n",
    "        finalword=finalword+word\n",
    "    return ( True if len(finalword)==len(givenlist) else False)\n",
    "    #return(print(splitlist))\n",
    "        "
   ]
  },
  {
   "cell_type": "code",
   "execution_count": 31,
   "metadata": {},
   "outputs": [
    {
     "name": "stdout",
     "output_type": "stream",
     "text": [
      "c\n",
      "ca\n",
      "cat\n",
      "s\n",
      "sa\n",
      "san\n",
      "sand\n",
      "o\n",
      "og\n"
     ]
    },
    {
     "data": {
      "text/plain": [
       "False"
      ]
     },
     "execution_count": 31,
     "metadata": {},
     "output_type": "execute_result"
    }
   ],
   "source": [
    "findstring([\"cats\", \"dog\", \"sand\", \"and\", \"cat\",\"an\"],'catsandog')"
   ]
  },
  {
   "cell_type": "code",
   "execution_count": null,
   "metadata": {},
   "outputs": [],
   "source": []
  }
 ],
 "metadata": {
  "kernelspec": {
   "display_name": "Python 3",
   "language": "python",
   "name": "python3"
  },
  "language_info": {
   "codemirror_mode": {
    "name": "ipython",
    "version": 3
   },
   "file_extension": ".py",
   "mimetype": "text/x-python",
   "name": "python",
   "nbconvert_exporter": "python",
   "pygments_lexer": "ipython3",
   "version": "3.6.7"
  }
 },
 "nbformat": 4,
 "nbformat_minor": 4
}
