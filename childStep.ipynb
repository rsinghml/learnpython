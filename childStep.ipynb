{
 "cells": [
  {
   "cell_type": "markdown",
   "metadata": {},
   "source": [
    "#### Child climbing n steps , can take 1 , 2 or 3 steps , find all possible ways"
   ]
  },
  {
   "cell_type": "code",
   "execution_count": 22,
   "metadata": {},
   "outputs": [
    {
     "name": "stdout",
     "output_type": "stream",
     "text": [
      "Res-before:[0, 0, 0, 0, 0, 0]\n",
      "Res:[1, 1, 2, 0, 0, 0]\n",
      "2 1 1\n",
      "4 2 1\n",
      "7 4 2\n",
      "13\n"
     ]
    }
   ],
   "source": [
    "# Python program to find n-th stair \n",
    "# using step size 1 or 2 or 3. \n",
    "\n",
    "# A recursive function used by countWays \n",
    "def countWays(n) : \n",
    "\tres = [0] * (n + 1) \n",
    "\tprint(\"Res-before:{}\".format(res))\n",
    "\tres[0] = 1\n",
    "\tres[1] = 1\n",
    "\tres[2] = 2\n",
    "\tprint(\"Res:{}\".format(res))\n",
    "\tfor i in range(3, n + 1) :\n",
    "\t\tprint(res[i-1],res[i - 2],res[i - 3])        \n",
    "\t\tres[i] = res[i - 1] + res[i - 2] + res[i - 3] \n",
    "\t\n",
    "\treturn res[n] \n",
    "\n",
    "# Driver code \n",
    "n = 5\n",
    "print(countWays(n)) \n",
    "\n",
    "\n",
    "# This code is contributed by Nikita Tiwari. \n",
    "\n"
   ]
  },
  {
   "cell_type": "code",
   "execution_count": 23,
   "metadata": {},
   "outputs": [
    {
     "name": "stdout",
     "output_type": "stream",
     "text": [
      "3\n",
      "4\n",
      "5\n"
     ]
    }
   ],
   "source": [
    "for i in range(3,6):\n",
    "    print(i)"
   ]
  },
  {
   "cell_type": "code",
   "execution_count": null,
   "metadata": {},
   "outputs": [],
   "source": []
  }
 ],
 "metadata": {
  "kernelspec": {
   "display_name": "Python 3",
   "language": "python",
   "name": "python3"
  },
  "language_info": {
   "codemirror_mode": {
    "name": "ipython",
    "version": 3
   },
   "file_extension": ".py",
   "mimetype": "text/x-python",
   "name": "python",
   "nbconvert_exporter": "python",
   "pygments_lexer": "ipython3",
   "version": "3.6.7"
  }
 },
 "nbformat": 4,
 "nbformat_minor": 4
}
