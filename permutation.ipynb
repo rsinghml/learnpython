{
 "cells": [
  {
   "cell_type": "markdown",
   "metadata": {},
   "source": [
    "#### Permutations of a list"
   ]
  },
  {
   "cell_type": "code",
   "execution_count": 31,
   "metadata": {},
   "outputs": [],
   "source": [
    "def perm(num):\n",
    "    mod_num=[]\n",
    "    def do_perm(num,item,mod_num):\n",
    "        print(num,item,mod_num)\n",
    "        for i in range((len(num)-1)):\n",
    "            print(i)\n",
    "            num[i],num[i+1]=num[i+1],item\n",
    "            print(f\"here{num}\")\n",
    "            mod_num.append(num)\n",
    "        return print(mod_num)\n",
    "    for item in num:\n",
    "        do_perm(num,item,mod_num)"
   ]
  },
  {
   "cell_type": "code",
   "execution_count": 81,
   "metadata": {},
   "outputs": [],
   "source": [
    "def permute(a, l, r):\n",
    "    #print(f\"l={l},r={r}\")\n",
    "    if l==r: \n",
    "        print (f\"printing: {a}\") \n",
    "    else: \n",
    "        for i in range(l,r+1):\n",
    "            #print(f\"here1:l={l},i={i}\")\n",
    "            #print(f\"a-l:{a[l]},a-i:{a[i]}\")\n",
    "            a[l], a[i] = a[i], a[l] \n",
    "            #print(f\"here:{a}\")\n",
    "            permute(a, l+1, r)\n",
    "            #print(f\"here2:l={l},i={i}\")\n",
    "            a[l], a[i] = a[i], a[l]\n",
    "            #print(f\"here2:{a}\")"
   ]
  },
  {
   "cell_type": "code",
   "execution_count": 80,
   "metadata": {},
   "outputs": [
    {
     "name": "stdout",
     "output_type": "stream",
     "text": [
      "printing: [2, 3, 5, 7]\n",
      "printing: [2, 3, 7, 5]\n",
      "printing: [2, 7, 3, 5]\n",
      "printing: [2, 7, 5, 3]\n",
      "printing: [2, 3, 5, 7]\n",
      "printing: [2, 3, 7, 5]\n",
      "printing: [3, 2, 7, 5]\n",
      "printing: [3, 2, 5, 7]\n",
      "printing: [3, 5, 2, 7]\n",
      "printing: [3, 5, 7, 2]\n",
      "printing: [3, 2, 7, 5]\n",
      "printing: [3, 2, 5, 7]\n",
      "printing: [5, 2, 3, 7]\n",
      "printing: [5, 2, 7, 3]\n",
      "printing: [5, 7, 2, 3]\n",
      "printing: [5, 7, 3, 2]\n",
      "printing: [5, 2, 3, 7]\n",
      "printing: [5, 2, 7, 3]\n",
      "printing: [3, 2, 7, 5]\n",
      "printing: [3, 2, 5, 7]\n",
      "printing: [3, 5, 2, 7]\n",
      "printing: [3, 5, 7, 2]\n",
      "printing: [3, 2, 7, 5]\n",
      "printing: [3, 2, 5, 7]\n"
     ]
    }
   ],
   "source": [
    "permute([2,3,5,7],0,3)"
   ]
  },
  {
   "cell_type": "code",
   "execution_count": 82,
   "metadata": {},
   "outputs": [
    {
     "name": "stdout",
     "output_type": "stream",
     "text": [
      "printing: [2, 3, 5, 7]\n",
      "printing: [2, 3, 7, 5]\n",
      "printing: [2, 5, 3, 7]\n",
      "printing: [2, 5, 7, 3]\n",
      "printing: [2, 7, 5, 3]\n",
      "printing: [2, 7, 3, 5]\n",
      "printing: [3, 2, 5, 7]\n",
      "printing: [3, 2, 7, 5]\n",
      "printing: [3, 5, 2, 7]\n",
      "printing: [3, 5, 7, 2]\n",
      "printing: [3, 7, 5, 2]\n",
      "printing: [3, 7, 2, 5]\n",
      "printing: [5, 3, 2, 7]\n",
      "printing: [5, 3, 7, 2]\n",
      "printing: [5, 2, 3, 7]\n",
      "printing: [5, 2, 7, 3]\n",
      "printing: [5, 7, 2, 3]\n",
      "printing: [5, 7, 3, 2]\n",
      "printing: [7, 3, 5, 2]\n",
      "printing: [7, 3, 2, 5]\n",
      "printing: [7, 5, 3, 2]\n",
      "printing: [7, 5, 2, 3]\n",
      "printing: [7, 2, 5, 3]\n",
      "printing: [7, 2, 3, 5]\n"
     ]
    }
   ],
   "source": [
    "permute([2,3,5,7],0,3)"
   ]
  },
  {
   "cell_type": "code",
   "execution_count": null,
   "metadata": {},
   "outputs": [],
   "source": []
  }
 ],
 "metadata": {
  "kernelspec": {
   "display_name": "Python 3",
   "language": "python",
   "name": "python3"
  },
  "language_info": {
   "codemirror_mode": {
    "name": "ipython",
    "version": 3
   },
   "file_extension": ".py",
   "mimetype": "text/x-python",
   "name": "python",
   "nbconvert_exporter": "python",
   "pygments_lexer": "ipython3",
   "version": "3.7.3"
  }
 },
 "nbformat": 4,
 "nbformat_minor": 4
}
