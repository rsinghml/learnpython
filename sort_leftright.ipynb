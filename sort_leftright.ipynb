{
 "cells": [
  {
   "cell_type": "markdown",
   "metadata": {},
   "source": [
    "#### Function to do quicksort , given an index sort items smaller in left , bigger to right "
   ]
  },
  {
   "cell_type": "code",
   "execution_count": 89,
   "metadata": {},
   "outputs": [],
   "source": [
    "def c_quicksort(arr=[12,4,5,6,7,3,1,15]):\n",
    "    print(arr)\n",
    "    #return (print([x for x in arr if x < idx_item]+[idx_item]+[y for y in arr if y > idx_item]))\n",
    "    #print(\"smaller-{}\".format([x for x in arr if x < idx_item]))\n",
    "    #print(\"bigger-{}\".format([x for x in arr if x > idx_item]))\n",
    "    if len(arr) > 1:\n",
    "        idx_item=[arr[-1]]\n",
    "        #print(type(idx_item))\n",
    "        #print(idx_item)\n",
    "        #print(\"smaller-{}\".format([x for x in arr if x < idx_item[0]]))\n",
    "        #print(\"bigger-{}\".format([x for x in arr if x > idx_item[0]]))\n",
    "        smaller=[x for x in arr if x < idx_item[0]]\n",
    "        bigger=[y for y in arr if y > idx_item[0]]\n",
    "        return (c_quicksort(smaller)+\n",
    "                idx_item+\n",
    "                c_quicksort(bigger))\n",
    "    else:\n",
    "        return arr\n",
    "        "
   ]
  },
  {
   "cell_type": "code",
   "execution_count": 90,
   "metadata": {},
   "outputs": [
    {
     "name": "stdout",
     "output_type": "stream",
     "text": [
      "[3, 56, 8, 2, 34, 56, 12, 11, 90]\n",
      "[3, 56, 8, 2, 34, 56, 12, 11]\n",
      "[3, 8, 2]\n",
      "[]\n",
      "[3, 8]\n",
      "[3]\n",
      "[]\n",
      "[56, 34, 56, 12]\n",
      "[]\n",
      "[56, 34, 56]\n",
      "[34]\n",
      "[]\n",
      "[]\n"
     ]
    },
    {
     "data": {
      "text/plain": [
       "[2, 3, 8, 11, 12, 34, 56, 90]"
      ]
     },
     "execution_count": 90,
     "metadata": {},
     "output_type": "execute_result"
    }
   ],
   "source": [
    "c_quicksort([3,56,8,2,34,56,12,11,90])"
   ]
  },
  {
   "cell_type": "code",
   "execution_count": null,
   "metadata": {},
   "outputs": [],
   "source": []
  }
 ],
 "metadata": {
  "kernelspec": {
   "display_name": "Python 3",
   "language": "python",
   "name": "python3"
  },
  "language_info": {
   "codemirror_mode": {
    "name": "ipython",
    "version": 3
   },
   "file_extension": ".py",
   "mimetype": "text/x-python",
   "name": "python",
   "nbconvert_exporter": "python",
   "pygments_lexer": "ipython3",
   "version": "3.6.7"
  }
 },
 "nbformat": 4,
 "nbformat_minor": 4
}
